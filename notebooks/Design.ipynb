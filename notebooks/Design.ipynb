{
 "cells": [
  {
   "cell_type": "markdown",
   "metadata": {},
   "source": [
    "# Aim\n",
    "\n",
    "Produce an RSS Scraper/Parser to convert news stories or articles to the Full Fact Haystack format.  \n",
    "\n",
    "## Design\n",
    "\n",
    "* `feedparser` + `BeautifulSoup4` + `lxml` = Success!\n",
    "\n",
    "## Findings\n",
    "\n",
    "### RSS feeds can be non tivial\n",
    "\n",
    "* https://www.theguardian.com/politics/series/the-politics-sketch/rss\n",
    "* https://www.theguardian.com/politics/rss\n",
    "* http://feeds.bbci.co.uk/news/politics/rss.xml\n",
    "\n",
    "###  Some outlets only allow subscription via email newsletters\n",
    "\n",
    "* www.politics.co.uk\n",
    "\n",
    "\n",
    "### Other Challenges ( and TODOs)\n",
    "\n",
    "* Need to read HTML article page and split content into sentences.\n",
    "* Exporting to the Haystack XMl format\n",
    "* Caching/storing articles already downloaded\n",
    "* Schedualing the process and as a config "
   ]
  },
  {
   "cell_type": "markdown",
   "metadata": {},
   "source": [
    "# Minimal Example"
   ]
  },
  {
   "cell_type": "code",
   "execution_count": 8,
   "metadata": {
    "collapsed": true
   },
   "outputs": [],
   "source": [
    "import sys\n",
    "sys.path.append('../package/')\n",
    "\n",
    "import feedparser\n",
    "import yaml"
   ]
  },
  {
   "cell_type": "code",
   "execution_count": 6,
   "metadata": {},
   "outputs": [],
   "source": [
    "feed_url = \"https://www.theguardian.com/politics/rss\"\n",
    "feed = feedparser.parse(feed_url,)"
   ]
  },
  {
   "cell_type": "code",
   "execution_count": 21,
   "metadata": {},
   "outputs": [
    {
     "data": {
      "text/plain": [
       "{'author': 'Chris Johnston',\n",
       " 'author_detail': {'name': 'Chris Johnston'},\n",
       " 'authors': [{'name': 'Chris Johnston'}],\n",
       " 'credit': 'Photograph: Anthony Devlin/Getty Images',\n",
       " 'guidislink': False,\n",
       " 'id': 'https://www.theguardian.com/politics/2017/may/06/andy-burnham-denies-jeremy-corbyn-snub-manchester-rally',\n",
       " 'link': 'https://www.theguardian.com/politics/2017/may/06/andy-burnham-denies-jeremy-corbyn-snub-manchester-rally',\n",
       " 'links': [{'href': 'https://www.theguardian.com/politics/2017/may/06/andy-burnham-denies-jeremy-corbyn-snub-manchester-rally',\n",
       "   'rel': 'alternate',\n",
       "   'type': 'text/html'}],\n",
       " 'media_content': [{'url': 'https://i.guim.co.uk/img/media/26fc909c3ba2b99e273e09658f4cf04ea94bdf41/66_87_3609_2165/master/3609.jpg?w=140&q=55&auto=format&usm=12&fit=max&s=0f02410b3c349cfaef9f77fa453b3ecb',\n",
       "   'width': '140'},\n",
       "  {'url': 'https://i.guim.co.uk/img/media/26fc909c3ba2b99e273e09658f4cf04ea94bdf41/66_87_3609_2165/master/3609.jpg?w=460&q=55&auto=format&usm=12&fit=max&s=dd5e475664da9887c63ecb47ec42ba2a',\n",
       "   'width': '460'}],\n",
       " 'media_credit': [{'content': 'Photograph: Anthony Devlin/Getty Images',\n",
       "   'scheme': 'urn:ebu'},\n",
       "  {'content': 'Photograph: Anthony Devlin/Getty Images', 'scheme': 'urn:ebu'}],\n",
       " 'published': 'Sat, 06 May 2017 14:39:27 GMT',\n",
       " 'published_parsed': time.struct_time(tm_year=2017, tm_mon=5, tm_mday=6, tm_hour=14, tm_min=39, tm_sec=27, tm_wday=5, tm_yday=126, tm_isdst=0),\n",
       " 'summary': '<p>New mayor for Greater Manchester blames prior commitments for no-show at victory rally with party leader</p><p>The new Labour mayor of Greater Manchester, Andy Burnham, has denied snubbing Jeremy Corbyn after failing to join his party leader at a rally in the city <a href=\"https://www.theguardian.com/uk-news/2017/may/05/andy-burnham-elected-mayor-of-greater-manchester\">following his election victory</a>.</p><p>Burnham said his absence from the event was “not in the slightest” intended as a snub, and that he had told Corbyn’s office earlier in the week that he had prior engagements.</p> <a href=\"https://www.theguardian.com/politics/2017/may/06/andy-burnham-denies-jeremy-corbyn-snub-manchester-rally\">Continue reading...</a>',\n",
       " 'summary_detail': {'base': 'https://www.theguardian.com/politics/rss',\n",
       "  'language': None,\n",
       "  'type': 'text/html',\n",
       "  'value': '<p>New mayor for Greater Manchester blames prior commitments for no-show at victory rally with party leader</p><p>The new Labour mayor of Greater Manchester, Andy Burnham, has denied snubbing Jeremy Corbyn after failing to join his party leader at a rally in the city <a href=\"https://www.theguardian.com/uk-news/2017/may/05/andy-burnham-elected-mayor-of-greater-manchester\">following his election victory</a>.</p><p>Burnham said his absence from the event was “not in the slightest” intended as a snub, and that he had told Corbyn’s office earlier in the week that he had prior engagements.</p> <a href=\"https://www.theguardian.com/politics/2017/may/06/andy-burnham-denies-jeremy-corbyn-snub-manchester-rally\">Continue reading...</a>'},\n",
       " 'tags': [{'label': None,\n",
       "   'scheme': 'https://www.theguardian.com/politics/andyburnham',\n",
       "   'term': 'Andy Burnham'},\n",
       "  {'label': None,\n",
       "   'scheme': 'https://www.theguardian.com/politics/jeremy-corbyn',\n",
       "   'term': 'Jeremy Corbyn'},\n",
       "  {'label': None,\n",
       "   'scheme': 'https://www.theguardian.com/politics/labour',\n",
       "   'term': 'Labour'},\n",
       "  {'label': None,\n",
       "   'scheme': 'https://www.theguardian.com/uk/greater-manchester',\n",
       "   'term': 'Greater Manchester'},\n",
       "  {'label': None,\n",
       "   'scheme': 'https://www.theguardian.com/politics/mayoral-elections',\n",
       "   'term': 'Mayoral elections'},\n",
       "  {'label': None,\n",
       "   'scheme': 'https://www.theguardian.com/society/localgovernment',\n",
       "   'term': 'Local government'},\n",
       "  {'label': None,\n",
       "   'scheme': 'https://www.theguardian.com/politics/localgovernment',\n",
       "   'term': 'Local politics'},\n",
       "  {'label': None,\n",
       "   'scheme': 'https://www.theguardian.com/politics/politics',\n",
       "   'term': 'Politics'},\n",
       "  {'label': None,\n",
       "   'scheme': 'https://www.theguardian.com/uk/uk',\n",
       "   'term': 'UK news'},\n",
       "  {'label': None,\n",
       "   'scheme': 'https://www.theguardian.com/politics/local-elections',\n",
       "   'term': 'Local elections'}],\n",
       " 'title': 'Andy Burnham denies snubbing Jeremy Corbyn at Manchester rally',\n",
       " 'title_detail': {'base': 'https://www.theguardian.com/politics/rss',\n",
       "  'language': None,\n",
       "  'type': 'text/plain',\n",
       "  'value': 'Andy Burnham denies snubbing Jeremy Corbyn at Manchester rally'},\n",
       " 'updated': '2017-05-06T14:39:27Z',\n",
       " 'updated_parsed': time.struct_time(tm_year=2017, tm_mon=5, tm_mday=6, tm_hour=14, tm_min=39, tm_sec=27, tm_wday=5, tm_yday=126, tm_isdst=0)}"
      ]
     },
     "execution_count": 21,
     "metadata": {},
     "output_type": "execute_result"
    }
   ],
   "source": [
    "feed['entries'][0]"
   ]
  },
  {
   "cell_type": "code",
   "execution_count": 20,
   "metadata": {},
   "outputs": [
    {
     "data": {
      "text/plain": [
       "'<p>New mayor for Greater Manchester blames prior commitments for no-show at victory rally with party leader</p><p>The new Labour mayor of Greater Manchester, Andy Burnham, has denied snubbing Jeremy Corbyn after failing to join his party leader at a rally in the city <a href=\"https://www.theguardian.com/uk-news/2017/may/05/andy-burnham-elected-mayor-of-greater-manchester\">following his election victory</a>.</p><p>Burnham said his absence from the event was “not in the slightest” intended as a snub, and that he had told Corbyn’s office earlier in the week that he had prior engagements.</p> <a href=\"https://www.theguardian.com/politics/2017/may/06/andy-burnham-denies-jeremy-corbyn-snub-manchester-rally\">Continue reading...</a>'"
      ]
     },
     "execution_count": 20,
     "metadata": {},
     "output_type": "execute_result"
    }
   ],
   "source": [
    "feed['entries'][0]['summary']"
   ]
  },
  {
   "cell_type": "code",
   "execution_count": null,
   "metadata": {
    "collapsed": true
   },
   "outputs": [],
   "source": [
    "# Getting actual Article content"
   ]
  },
  {
   "cell_type": "code",
   "execution_count": 10,
   "metadata": {
    "collapsed": true
   },
   "outputs": [],
   "source": [
    "# Get relevant components"
   ]
  },
  {
   "cell_type": "code",
   "execution_count": 12,
   "metadata": {
    "scrolled": false
   },
   "outputs": [
    {
     "data": {
      "text/plain": [
       "{'image': {'href': 'https://assets.guim.co.uk/images/guardian-logo-rss.c45beb1bafa34b347ac333af2e6fe23f.png',\n",
       "  'link': 'https://www.theguardian.com',\n",
       "  'links': [{'href': 'https://www.theguardian.com',\n",
       "    'rel': 'alternate',\n",
       "    'type': 'text/html'}],\n",
       "  'title': 'The Guardian',\n",
       "  'title_detail': {'base': 'https://www.theguardian.com/politics/rss',\n",
       "   'language': None,\n",
       "   'type': 'text/plain',\n",
       "   'value': 'The Guardian'}},\n",
       " 'language': 'en-gb',\n",
       " 'link': 'https://www.theguardian.com/politics',\n",
       " 'links': [{'href': 'https://www.theguardian.com/politics',\n",
       "   'rel': 'alternate',\n",
       "   'type': 'text/html'}],\n",
       " 'published': 'Sat, 06 May 2017 15:33:08 GMT',\n",
       " 'published_parsed': time.struct_time(tm_year=2017, tm_mon=5, tm_mday=6, tm_hour=15, tm_min=33, tm_sec=8, tm_wday=5, tm_yday=126, tm_isdst=0),\n",
       " 'rights': 'Guardian News and Media Limited or its affiliated companies. All rights reserved. 2017',\n",
       " 'rights_detail': {'base': 'https://www.theguardian.com/politics/rss',\n",
       "  'language': None,\n",
       "  'type': 'text/plain',\n",
       "  'value': 'Guardian News and Media Limited or its affiliated companies. All rights reserved. 2017'},\n",
       " 'subtitle': \"Latest Politics news, comment and analysis from the Guardian, the world's leading liberal voice\",\n",
       " 'subtitle_detail': {'base': 'https://www.theguardian.com/politics/rss',\n",
       "  'language': None,\n",
       "  'type': 'text/html',\n",
       "  'value': \"Latest Politics news, comment and analysis from the Guardian, the world's leading liberal voice\"},\n",
       " 'title': 'Politics | The Guardian',\n",
       " 'title_detail': {'base': 'https://www.theguardian.com/politics/rss',\n",
       "  'language': None,\n",
       "  'type': 'text/plain',\n",
       "  'value': 'Politics | The Guardian'},\n",
       " 'updated': '2017-05-06T15:33:08Z',\n",
       " 'updated_parsed': time.struct_time(tm_year=2017, tm_mon=5, tm_mday=6, tm_hour=15, tm_min=33, tm_sec=8, tm_wday=5, tm_yday=126, tm_isdst=0)}"
      ]
     },
     "execution_count": 12,
     "metadata": {},
     "output_type": "execute_result"
    }
   ],
   "source": [
    "feed['feed']"
   ]
  },
  {
   "cell_type": "code",
   "execution_count": null,
   "metadata": {
    "collapsed": true
   },
   "outputs": [],
   "source": [
    "# Sentence Spitting"
   ]
  }
 ],
 "metadata": {
  "kernelspec": {
   "display_name": "Python 3",
   "language": "python",
   "name": "python3"
  },
  "language_info": {
   "codemirror_mode": {
    "name": "ipython",
    "version": 3
   },
   "file_extension": ".py",
   "mimetype": "text/x-python",
   "name": "python",
   "nbconvert_exporter": "python",
   "pygments_lexer": "ipython3",
   "version": "3.6.1"
  }
 },
 "nbformat": 4,
 "nbformat_minor": 2
}
