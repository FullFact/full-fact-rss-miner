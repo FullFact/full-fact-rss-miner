{
 "cells": [
  {
   "cell_type": "markdown",
   "metadata": {},
   "source": [
    "# Aim\n",
    "\n",
    "Produce an RSS Scraper/Parser to convert news stories or articles to the Full Fact Haystack format.  \n",
    "\n",
    "## Idea\n",
    "\n",
    "* `feedparser` + `BeautifulSoup4` + `lxml` = Success!\n",
    "\n",
    "## Findings\n",
    "\n",
    "### RSS feeds can be non tivial\n",
    "\n",
    "* https://www.theguardian.com/politics/series/the-politics-sketch/rss\n",
    "* https://www.theguardian.com/politics/rss\n",
    "* http://feeds.bbci.co.uk/news/politics/rss.xml\n",
    "\n",
    "###  Some outlets only allow subscription via email newsletters\n",
    "\n",
    "* http://www.politics.co.uk\n",
    "\n",
    "\n",
    "### Other Challenges ( and TODOs)\n",
    "\n",
    "* Need to read HTML article page and split content into sentences.\n",
    "* Exporting to the Haystack XMl format\n",
    "* Caching/storing articles already downloaded\n",
    "* Scheduling the process and holding options as a config "
   ]
  },
  {
   "cell_type": "markdown",
   "metadata": {},
   "source": [
    "## Design/Plan\n",
    "\n",
    "Store all the feed data in a tinyDB, only update information if it has changed?\n",
    "\n",
    "What could change?\n",
    "\n",
    "Title and content. How do we know its the same story? Best to capture everything? Do we then version the articles?\n",
    "\n",
    "How do we identify an article?\n",
    "\n",
    "* URL is good, combine with versioning?\n",
    "\n",
    "**Use etag and Last modified to only get latest feeds**\n",
    "\n",
    "Process each feed with:\n",
    "\n",
    "\n",
    "\n",
    "\n"
   ]
  },
  {
   "cell_type": "markdown",
   "metadata": {},
   "source": [
    "# Minimal Example"
   ]
  },
  {
   "cell_type": "code",
   "execution_count": 2,
   "metadata": {
    "collapsed": true
   },
   "outputs": [],
   "source": [
    "import sys\n",
    "sys.path.append('../package/src/')"
   ]
  },
  {
   "cell_type": "code",
   "execution_count": 3,
   "metadata": {
    "collapsed": true
   },
   "outputs": [],
   "source": [
    "import feedparser"
   ]
  },
  {
   "cell_type": "code",
   "execution_count": 3,
   "metadata": {
    "collapsed": true
   },
   "outputs": [],
   "source": [
    "bbc_url = \"http://feeds.bbci.co.uk/news/politics/rss.xml\"\n",
    "ft_url = \"http://feeds2.feedburner.com/ft/westminster\"\n",
    "gaurdian_url = \"https://www.theguardian.com/politics/rss\"\n",
    "\n",
    "data_sources = [bbc_url, ft_url, gaurdian_url]"
   ]
  },
  {
   "cell_type": "code",
   "execution_count": 4,
   "metadata": {},
   "outputs": [],
   "source": [
    "bbc_feed = feedparser.parse(bbc_url)\n",
    "\n",
    "ft_feed = feedparser.parse(ft_url)\n",
    "\n",
    "g_feed = feedparser.parse(gaurdian_url)"
   ]
  },
  {
   "cell_type": "code",
   "execution_count": 30,
   "metadata": {},
   "outputs": [
    {
     "data": {
      "text/plain": [
       "dict_keys(['title', 'title_detail', 'summary', 'summary_detail', 'links', 'link', 'id', 'guidislink', 'published', 'published_parsed', 'media_thumbnail', 'href'])"
      ]
     },
     "execution_count": 30,
     "metadata": {},
     "output_type": "execute_result"
    }
   ],
   "source": [
    "bbc_feed.entries[0].keys()"
   ]
  },
  {
   "cell_type": "code",
   "execution_count": 38,
   "metadata": {},
   "outputs": [
    {
     "data": {
      "text/plain": [
       "{'base': 'http://feeds.bbci.co.uk/news/politics/rss.xml',\n",
       " 'language': None,\n",
       " 'type': 'text/plain',\n",
       " 'value': 'Jeremy Corbyn on whether the UK will definitely leave the EU'}"
      ]
     },
     "execution_count": 38,
     "metadata": {},
     "output_type": "execute_result"
    }
   ],
   "source": [
    "bbc_feed.entries[1].title_detail"
   ]
  },
  {
   "cell_type": "code",
   "execution_count": 28,
   "metadata": {},
   "outputs": [
    {
     "data": {
      "text/plain": [
       "dict_keys(['title', 'title_detail', 'links', 'link', 'summary', 'summary_detail', 'tags', 'published', 'published_parsed', 'id', 'guidislink', 'media_content', 'media_credit', 'credit', 'authors', 'author', 'author_detail', 'updated', 'updated_parsed'])"
      ]
     },
     "execution_count": 28,
     "metadata": {},
     "output_type": "execute_result"
    }
   ],
   "source": [
    "g_feed.entries[0].keys()"
   ]
  },
  {
   "cell_type": "code",
   "execution_count": 37,
   "metadata": {},
   "outputs": [
    {
     "data": {
      "text/plain": [
       "{'base': 'https://www.theguardian.com/politics/rss',\n",
       " 'language': None,\n",
       " 'type': 'text/plain',\n",
       " 'value': \"Tory MPs plot to water down Theresa May's energy price cap pledge\"}"
      ]
     },
     "execution_count": 37,
     "metadata": {},
     "output_type": "execute_result"
    }
   ],
   "source": [
    "g_feed.entries[1].title_detail"
   ]
  },
  {
   "cell_type": "code",
   "execution_count": 29,
   "metadata": {},
   "outputs": [
    {
     "data": {
      "text/plain": [
       "dict_keys(['title', 'title_detail', 'links', 'link', 'comments', 'published', 'published_parsed', 'authors', 'author', 'author_detail', 'tags', 'id', 'guidislink', 'summary', 'summary_detail', 'wfw_commentrss', 'slash_comments'])"
      ]
     },
     "execution_count": 29,
     "metadata": {},
     "output_type": "execute_result"
    }
   ],
   "source": [
    "ft_feed.entries[0].keys()"
   ]
  },
  {
   "cell_type": "code",
   "execution_count": null,
   "metadata": {
    "collapsed": true
   },
   "outputs": [],
   "source": [
    "entry = bbc_feed.entries[0]"
   ]
  },
  {
   "cell_type": "code",
   "execution_count": 43,
   "metadata": {},
   "outputs": [
    {
     "data": {
      "text/plain": [
       "'http://blogs.ft.com/westminster/liveblogs/2017-04-18-2/feed/'"
      ]
     },
     "execution_count": 43,
     "metadata": {},
     "output_type": "execute_result"
    }
   ],
   "source": [
    "ft_feed.entries[0].wfw_commentrss"
   ]
  },
  {
   "cell_type": "code",
   "execution_count": 31,
   "metadata": {},
   "outputs": [
    {
     "ename": "NameError",
     "evalue": "name 'entry' is not defined",
     "output_type": "error",
     "traceback": [
      "\u001b[0;31m---------------------------------------------------------------------------\u001b[0m",
      "\u001b[0;31mNameError\u001b[0m                                 Traceback (most recent call last)",
      "\u001b[0;32m<ipython-input-31-5b51008ba7ae>\u001b[0m in \u001b[0;36m<module>\u001b[0;34m()\u001b[0m\n\u001b[1;32m      1\u001b[0m data = {\n\u001b[0;32m----> 2\u001b[0;31m     \u001b[0;34m'title'\u001b[0m\u001b[0;34m:\u001b[0m \u001b[0mentry\u001b[0m\u001b[0;34m.\u001b[0m\u001b[0mtitle\u001b[0m\u001b[0;34m,\u001b[0m\u001b[0;34m\u001b[0m\u001b[0m\n\u001b[0m\u001b[1;32m      3\u001b[0m     \u001b[0;34m'id'\u001b[0m\u001b[0;34m:\u001b[0m \u001b[0mentry\u001b[0m\u001b[0;34m.\u001b[0m\u001b[0mid\u001b[0m\u001b[0;34m,\u001b[0m\u001b[0;34m\u001b[0m\u001b[0m\n\u001b[1;32m      4\u001b[0m     \u001b[0;34m'link'\u001b[0m\u001b[0;34m:\u001b[0m \u001b[0mentry\u001b[0m\u001b[0;34m.\u001b[0m\u001b[0mlink\u001b[0m\u001b[0;34m,\u001b[0m\u001b[0;34m\u001b[0m\u001b[0m\n\u001b[1;32m      5\u001b[0m     \u001b[0;34m'published'\u001b[0m\u001b[0;34m:\u001b[0m \u001b[0mentry\u001b[0m\u001b[0;34m.\u001b[0m\u001b[0mpublished\u001b[0m\u001b[0;34m,\u001b[0m\u001b[0;34m\u001b[0m\u001b[0m\n",
      "\u001b[0;31mNameError\u001b[0m: name 'entry' is not defined"
     ]
    }
   ],
   "source": [
    "data = {\n",
    "    'feed_id': 'foo',\n",
    "    'title': entry.title, \n",
    "    'id': entry.id, \n",
    "    'link': entry.link, \n",
    "    'published': entry.published,\n",
    "    'published_parsed': entry.published_parsed, \n",
    "    'authors': entry.get('authors'), \n",
    "    'tags': entry.get('tags')\n",
    "}"
   ]
  },
  {
   "cell_type": "code",
   "execution_count": 1,
   "metadata": {},
   "outputs": [
    {
     "ename": "ModuleNotFoundError",
     "evalue": "No module named 'storage'",
     "output_type": "error",
     "traceback": [
      "\u001b[0;31m---------------------------------------------------------------------------\u001b[0m",
      "\u001b[0;31mModuleNotFoundError\u001b[0m                       Traceback (most recent call last)",
      "\u001b[0;32m<ipython-input-1-0acbd4d2f42a>\u001b[0m in \u001b[0;36m<module>\u001b[0;34m()\u001b[0m\n\u001b[0;32m----> 1\u001b[0;31m \u001b[0;32mfrom\u001b[0m \u001b[0mstorage\u001b[0m \u001b[0;32mimport\u001b[0m \u001b[0mserialization\u001b[0m\u001b[0;34m\u001b[0m\u001b[0m\n\u001b[0m\u001b[1;32m      2\u001b[0m \u001b[0;32mfrom\u001b[0m \u001b[0mtinydb\u001b[0m \u001b[0;32mimport\u001b[0m \u001b[0mTinyDB\u001b[0m\u001b[0;34m,\u001b[0m \u001b[0mQuery\u001b[0m\u001b[0;34m\u001b[0m\u001b[0m\n\u001b[1;32m      3\u001b[0m \u001b[0;34m\u001b[0m\u001b[0m\n\u001b[1;32m      4\u001b[0m \u001b[0mdb\u001b[0m \u001b[0;34m=\u001b[0m \u001b[0mTinyDB\u001b[0m\u001b[0;34m(\u001b[0m\u001b[0;34m'db.json'\u001b[0m\u001b[0;34m,\u001b[0m \u001b[0mstorage\u001b[0m\u001b[0;34m=\u001b[0m\u001b[0mserialization\u001b[0m\u001b[0;34m)\u001b[0m\u001b[0;34m\u001b[0m\u001b[0m\n\u001b[1;32m      5\u001b[0m \u001b[0;34m\u001b[0m\u001b[0m\n",
      "\u001b[0;31mModuleNotFoundError\u001b[0m: No module named 'storage'"
     ]
    }
   ],
   "source": [
    "from storage import serialization\n",
    "from tinydb import TinyDB, Query\n",
    "\n",
    "db = TinyDB('db.json', storage=serialization)\n",
    "\n",
    "import source_data\n",
    "from source_data import fetch_new_entries\n",
    "\n",
    "# sources are dictionaries with \n",
    "data_sources =  [\n",
    "    {\n",
    "        'name': 'bbc', \n",
    "        'url': \"http://feeds.bbci.co.uk/news/politics/rss.xml\", \n",
    "    }, \n",
    "    {\n",
    "        'name': 'ft', \n",
    "        'url': \"http://feeds2.feedburner.com/ft/westminster\", \n",
    "    }, \n",
    "    {\n",
    "        'name': 'gaurdian', \n",
    "        'url': \"https://www.theguardian.com/politics/rss\", \n",
    "    }    \n",
    "]\n",
    "\n",
    "result = db.table('meta').get(Query().name == 'ft')\n",
    "\n",
    "ents = fetch_new_entries(source=data_sources[2], db=db)\n"
   ]
  },
  {
   "cell_type": "code",
   "execution_count": 1,
   "metadata": {
    "collapsed": true
   },
   "outputs": [],
   "source": [
    "import sys\n",
    "sys.path.append('../package/src/')"
   ]
  },
  {
   "cell_type": "code",
   "execution_count": 2,
   "metadata": {},
   "outputs": [],
   "source": [
    "import main"
   ]
  },
  {
   "cell_type": "code",
   "execution_count": 3,
   "metadata": {},
   "outputs": [
    {
     "ename": "TypeError",
     "evalue": "sequence item 0: expected str instance, spacy.tokens.token.Token found",
     "output_type": "error",
     "traceback": [
      "\u001b[0;31m---------------------------------------------------------------------------\u001b[0m",
      "\u001b[0;31mTypeError\u001b[0m                                 Traceback (most recent call last)",
      "\u001b[0;32m<ipython-input-3-b0a5bb83a6d5>\u001b[0m in \u001b[0;36m<module>\u001b[0;34m()\u001b[0m\n\u001b[0;32m----> 1\u001b[0;31m \u001b[0mmain\u001b[0m\u001b[0;34m.\u001b[0m\u001b[0mmain\u001b[0m\u001b[0;34m(\u001b[0m\u001b[0;36m1\u001b[0m\u001b[0;34m)\u001b[0m\u001b[0;34m\u001b[0m\u001b[0m\n\u001b[0m",
      "\u001b[0;32m/Users/cmusselle/Mango/Workspace/rss-miner/package/src/main.py\u001b[0m in \u001b[0;36mmain\u001b[0;34m(args)\u001b[0m\n\u001b[1;32m     58\u001b[0m                 \u001b[0mfilename\u001b[0m \u001b[0;34m=\u001b[0m \u001b[0;34m'articles/'\u001b[0m \u001b[0;34m+\u001b[0m \u001b[0ment\u001b[0m\u001b[0;34m.\u001b[0m\u001b[0mtitle\u001b[0m \u001b[0;34m+\u001b[0m \u001b[0;34m'.txt'\u001b[0m\u001b[0;34m\u001b[0m\u001b[0m\n\u001b[1;32m     59\u001b[0m                 \u001b[0;32mwith\u001b[0m \u001b[0mopen\u001b[0m\u001b[0;34m(\u001b[0m\u001b[0mfilename\u001b[0m\u001b[0;34m,\u001b[0m \u001b[0;34m'w'\u001b[0m\u001b[0;34m)\u001b[0m \u001b[0;32mas\u001b[0m \u001b[0mf\u001b[0m\u001b[0;34m:\u001b[0m\u001b[0;34m\u001b[0m\u001b[0m\n\u001b[0;32m---> 60\u001b[0;31m                     \u001b[0mdata\u001b[0m \u001b[0;34m=\u001b[0m \u001b[0;34m'\\n-----\\n'\u001b[0m\u001b[0;34m.\u001b[0m\u001b[0mjoin\u001b[0m\u001b[0;34m(\u001b[0m\u001b[0msentences\u001b[0m\u001b[0;34m)\u001b[0m\u001b[0;34m\u001b[0m\u001b[0m\n\u001b[0m\u001b[1;32m     61\u001b[0m                     \u001b[0mf\u001b[0m\u001b[0;34m.\u001b[0m\u001b[0mwrite\u001b[0m\u001b[0;34m(\u001b[0m\u001b[0mdata\u001b[0m\u001b[0;34m)\u001b[0m\u001b[0;34m\u001b[0m\u001b[0m\n\u001b[1;32m     62\u001b[0m \u001b[0;34m\u001b[0m\u001b[0m\n",
      "\u001b[0;31mTypeError\u001b[0m: sequence item 0: expected str instance, spacy.tokens.token.Token found"
     ]
    }
   ],
   "source": [
    "main.main(1)"
   ]
  },
  {
   "cell_type": "code",
   "execution_count": 4,
   "metadata": {},
   "outputs": [
    {
     "name": "stdout",
     "output_type": "stream",
     "text": [
      "> \u001b[0;32m/Users/cmusselle/Mango/Workspace/rss-miner/package/src/main.py\u001b[0m(61)\u001b[0;36mmain\u001b[0;34m()\u001b[0m\n",
      "\u001b[0;32m     59 \u001b[0;31m                \u001b[0;32mwith\u001b[0m \u001b[0mopen\u001b[0m\u001b[0;34m(\u001b[0m\u001b[0mfilename\u001b[0m\u001b[0;34m,\u001b[0m \u001b[0;34m'w'\u001b[0m\u001b[0;34m)\u001b[0m \u001b[0;32mas\u001b[0m \u001b[0mf\u001b[0m\u001b[0;34m:\u001b[0m\u001b[0;34m\u001b[0m\u001b[0m\n",
      "\u001b[0m\u001b[0;32m     60 \u001b[0;31m                    \u001b[0mdata\u001b[0m \u001b[0;34m=\u001b[0m \u001b[0;34m'\\n-----\\n'\u001b[0m\u001b[0;34m.\u001b[0m\u001b[0mjoin\u001b[0m\u001b[0;34m(\u001b[0m\u001b[0msentences\u001b[0m\u001b[0;34m)\u001b[0m\u001b[0;34m\u001b[0m\u001b[0m\n",
      "\u001b[0m\u001b[0;32m---> 61 \u001b[0;31m                    \u001b[0mf\u001b[0m\u001b[0;34m.\u001b[0m\u001b[0mwrite\u001b[0m\u001b[0;34m(\u001b[0m\u001b[0mdata\u001b[0m\u001b[0;34m)\u001b[0m\u001b[0;34m\u001b[0m\u001b[0m\n",
      "\u001b[0m\u001b[0;32m     62 \u001b[0;31m\u001b[0;34m\u001b[0m\u001b[0m\n",
      "\u001b[0m\u001b[0;32m     63 \u001b[0;31m                \u001b[0mtime\u001b[0m\u001b[0;34m.\u001b[0m\u001b[0msleep\u001b[0m\u001b[0;34m(\u001b[0m\u001b[0;36m0.1\u001b[0m\u001b[0;34m)\u001b[0m\u001b[0;34m\u001b[0m\u001b[0m\n",
      "\u001b[0m\n",
      "ipdb> sss = [x for x in sentences]\n",
      "ipdb> sss\n",
      "[]\n",
      "ipdb> paragraphs\n",
      "['Labour and the Lib Dems are both making multibillion pound funding pledges to tackle school cash shortages in England.', 'Labour says it would raise corporation tax to spend £4.8bn on keeping up with rising costs, and £335m so no schools lost out from a funding reorganisation.', 'The Lib Dems are promising £7bn to protect per-pupil funding levels.', \"The Conservatives said school spending had reached record levels and attacked the two parties' spending plans.\", 'Headteachers have been warning about job losses caused by cash shortages, with the National Audit Office estimating schools will have to cut £3bn from budgets by 2019-20 to meet rising cost pressures.', 'A new funding formula will also see some schools lose money, although others will gain.', 'On Monday, the Institute of Fiscal Studies said protecting schools from real-terms cuts in England would mean spending the equivalent of an extra penny on the basic rate of income tax.', 'Labour leader Jeremy Corbyn and shadow education secretary Angela Rayner are promising a real-terms funding increase in schools and \"free lifelong education\" in colleges, including restoring the Educational Maintenance Allowance.', 'This would be paid for by increasing corporation tax from the current 19% to 26% by 2021, Labour said.', '\"We will invest in schools and in our young people, ensuring no primary pupils go hungry during the day, reducing class sizes so children can learn and teachers can teach, and restoring the maintenance allowance and grants for students in both further and higher education,\" Ms Rayner said.', 'The Lib Dems claimed their plans went further than Labour\\'s and said details of how they would funded would be provided \"in due course\" in the party\\'s manifesto.', 'The party said it would also protect further education per-pupil funding in real terms.', 'Lib Dem education spokeswoman Sarah Olney said: \"While funding per pupil is set to see the biggest cuts in a generation, billions of pounds are being spent on divisive plans to expand grammars and free schools.', '\"This extra £7 billion of funding would ensure no school and no child loses out.\"', 'The Conservatives said Labour had already committed the corporation tax rise to other projects.', 'Chief Secretary to the Treasury David Gauke said Labour\\'s announcement was \"just made-up promises on the back of nonsensical spending plans\".', 'He added: \"The Lib Dems are no better and won\\'t even tell people about the tax rises they would bring in.\"', 'As education is a devolved matter, the pledges relate to England only, and the amount Scotland, Wales and Northern Ireland receives would be determined by the funding formula.']\n",
      "ipdb> x\n",
      "*** NameError: name 'x' is not defined\n",
      "ipdb> q\n"
     ]
    }
   ],
   "source": [
    "%debug"
   ]
  },
  {
   "cell_type": "code",
   "execution_count": 12,
   "metadata": {},
   "outputs": [],
   "source": [
    "paragraphs = ['Labour and the Lib Dems are both making multibillion pounds. Funding pledges to tackle school cash shortages in England.', 'Labour says it would raise corporation tax to spend £4.8bn on keeping up with rising costs, and £335m so no schools lost out from a funding reorganisation.', 'The Lib Dems are promising £7bn to protect per-pupil funding levels.', \"The Conservatives said school spending had reached record levels and attacked the two parties' spending plans.\", 'Headteachers have been warning about job losses caused by cash shortages, with the National Audit Office estimating schools will have to cut £3bn from budgets by 2019-20 to meet rising cost pressures.', 'A new funding formula will also see some schools lose money, although others will gain.', 'On Monday, the Institute of Fiscal Studies said protecting schools from real-terms cuts in England would mean spending the equivalent of an extra penny on the basic rate of income tax.', 'Labour leader Jeremy Corbyn and shadow education secretary Angela Rayner are promising a real-terms funding increase in schools and \"free lifelong education\" in colleges, including restoring the Educational Maintenance Allowance.', 'This would be paid for by increasing corporation tax from the current 19% to 26% by 2021, Labour said.', '\"We will invest in schools and in our young people, ensuring no primary pupils go hungry during the day, reducing class sizes so children can learn and teachers can teach, and restoring the maintenance allowance and grants for students in both further and higher education,\" Ms Rayner said.', 'The Lib Dems claimed their plans went further than Labour\\'s and said details of how they would funded would be provided \"in due course\" in the party\\'s manifesto.', 'The party said it would also protect further education per-pupil funding in real terms.', 'Lib Dem education spokeswoman Sarah Olney said: \"While funding per pupil is set to see the biggest cuts in a generation, billions of pounds are being spent on divisive plans to expand grammars and free schools.', '\"This extra £7 billion of funding would ensure no school and no child loses out.\"', 'The Conservatives said Labour had already committed the corporation tax rise to other projects.', 'Chief Secretary to the Treasury David Gauke said Labour\\'s announcement was \"just made-up promises on the back of nonsensical spending plans\".', 'He added: \"The Lib Dems are no better and won\\'t even tell people about the tax rises they would bring in.\"', 'As education is a devolved matter, the pledges relate to England only, and the amount Scotland, Wales and Northern Ireland receives would be determined by the funding formula.']\n",
    "\n",
    "import spacy\n",
    "nlp = spacy.load('en')\n",
    "\n",
    "docs = [nlp(p) for p in paragraphs]\n"
   ]
  },
  {
   "cell_type": "code",
   "execution_count": 15,
   "metadata": {},
   "outputs": [
    {
     "data": {
      "text/plain": [
       "[Labour and the Lib Dems are both making multibillion pounds.,\n",
       " Funding pledges to tackle school cash shortages in England.]"
      ]
     },
     "execution_count": 15,
     "metadata": {},
     "output_type": "execute_result"
    }
   ],
   "source": [
    "list(docs[0].sents)"
   ]
  },
  {
   "cell_type": "code",
   "execution_count": 18,
   "metadata": {
    "collapsed": true
   },
   "outputs": [],
   "source": [
    "from utils import flatten_nested_list"
   ]
  },
  {
   "cell_type": "code",
   "execution_count": 19,
   "metadata": {
    "collapsed": true
   },
   "outputs": [],
   "source": [
    "def paragraphs_to_sentences(paragraphs):\n",
    "    \"\"\"Return list of individual sentences from paragraphs\"\"\"\n",
    "\n",
    "    import spacy\n",
    "    nlp = spacy.load('en')\n",
    "\n",
    "    docs = [nlp(p) for p in paragraphs]\n",
    "\n",
    "    sents = [list(d.sents) for d in docs]\n",
    "\n",
    "    all_sents = flatten_nested_list(sents)\n",
    "\n",
    "    return all_sents\n"
   ]
  },
  {
   "cell_type": "code",
   "execution_count": 20,
   "metadata": {},
   "outputs": [],
   "source": [
    "s = paragraphs_to_sentences(paragraphs)"
   ]
  },
  {
   "cell_type": "code",
   "execution_count": 23,
   "metadata": {},
   "outputs": [
    {
     "data": {
      "text/plain": [
       "<generator object flatten_nested_list at 0x1634cf8e0>"
      ]
     },
     "execution_count": 23,
     "metadata": {},
     "output_type": "execute_result"
    }
   ],
   "source": [
    "s"
   ]
  },
  {
   "cell_type": "code",
   "execution_count": 5,
   "metadata": {
    "collapsed": true
   },
   "outputs": [],
   "source": [
    "%ls articles"
   ]
  },
  {
   "cell_type": "code",
   "execution_count": 6,
   "metadata": {},
   "outputs": [
    {
     "ename": "NameError",
     "evalue": "name 'articles' is not defined",
     "output_type": "error",
     "traceback": [
      "\u001b[0;31m---------------------------------------------------------------------------\u001b[0m",
      "\u001b[0;31mNameError\u001b[0m                                 Traceback (most recent call last)",
      "\u001b[0;32m<ipython-input-6-ce6df3ff1e4e>\u001b[0m in \u001b[0;36m<module>\u001b[0;34m()\u001b[0m\n\u001b[0;32m----> 1\u001b[0;31m \u001b[0marticles\u001b[0m\u001b[0;34m\u001b[0m\u001b[0m\n\u001b[0m",
      "\u001b[0;31mNameError\u001b[0m: name 'articles' is not defined"
     ]
    }
   ],
   "source": [
    "articles"
   ]
  },
  {
   "cell_type": "code",
   "execution_count": 14,
   "metadata": {},
   "outputs": [
    {
     "ename": "FeatureNotFound",
     "evalue": "Couldn't find a tree builder with the features you requested: lxml. Do you need to install a parser library?",
     "output_type": "error",
     "traceback": [
      "\u001b[0;31m---------------------------------------------------------------------------\u001b[0m",
      "\u001b[0;31mFeatureNotFound\u001b[0m                           Traceback (most recent call last)",
      "\u001b[0;32m<ipython-input-14-9d335f479abd>\u001b[0m in \u001b[0;36m<module>\u001b[0;34m()\u001b[0m\n\u001b[0;32m----> 1\u001b[0;31m \u001b[0mmain\u001b[0m\u001b[0;34m(\u001b[0m\u001b[0;36m1\u001b[0m\u001b[0;34m)\u001b[0m\u001b[0;34m\u001b[0m\u001b[0m\n\u001b[0m",
      "\u001b[0;32m/Users/cmusselle/Mango/Workspace/rss-miner/package/src/main.py\u001b[0m in \u001b[0;36mmain\u001b[0;34m(args)\u001b[0m\n\u001b[1;32m     49\u001b[0m \u001b[0;34m\u001b[0m\u001b[0m\n\u001b[1;32m     50\u001b[0m                 \u001b[0;31m# Fetch Content\u001b[0m\u001b[0;34m\u001b[0m\u001b[0;34m\u001b[0m\u001b[0m\n\u001b[0;32m---> 51\u001b[0;31m                 \u001b[0mparagraphs\u001b[0m \u001b[0;34m=\u001b[0m \u001b[0mfetch_article_content\u001b[0m\u001b[0;34m(\u001b[0m\u001b[0ment\u001b[0m\u001b[0;34m,\u001b[0m \u001b[0msource\u001b[0m\u001b[0;34m[\u001b[0m\u001b[0;34m'article_tag'\u001b[0m\u001b[0;34m]\u001b[0m\u001b[0;34m)\u001b[0m\u001b[0;34m\u001b[0m\u001b[0m\n\u001b[0m\u001b[1;32m     52\u001b[0m \u001b[0;34m\u001b[0m\u001b[0m\n\u001b[1;32m     53\u001b[0m                 \u001b[0;31m# Split into individual sentences\u001b[0m\u001b[0;34m\u001b[0m\u001b[0;34m\u001b[0m\u001b[0m\n",
      "\u001b[0;32m/Users/cmusselle/Mango/Workspace/rss-miner/package/src/source_articles.py\u001b[0m in \u001b[0;36mfetch_article_content\u001b[0;34m(entry, article_tag)\u001b[0m\n\u001b[1;32m     13\u001b[0m         \u001b[0;32mraise\u001b[0m \u001b[0mIOError\u001b[0m\u001b[0;34m(\u001b[0m\u001b[0;34m\"Could not fetch article content, encountered: {}\"\u001b[0m\u001b[0;34m.\u001b[0m\u001b[0mformat\u001b[0m\u001b[0;34m(\u001b[0m\u001b[0mresponse\u001b[0m\u001b[0;34m.\u001b[0m\u001b[0mstatus\u001b[0m\u001b[0;34m)\u001b[0m\u001b[0;34m)\u001b[0m\u001b[0;34m\u001b[0m\u001b[0m\n\u001b[1;32m     14\u001b[0m \u001b[0;34m\u001b[0m\u001b[0m\n\u001b[0;32m---> 15\u001b[0;31m     \u001b[0msoup\u001b[0m \u001b[0;34m=\u001b[0m \u001b[0mBeautifulSoup\u001b[0m\u001b[0;34m(\u001b[0m\u001b[0mresponse\u001b[0m\u001b[0;34m.\u001b[0m\u001b[0mcontent\u001b[0m\u001b[0;34m,\u001b[0m \u001b[0;34m\"lxml\"\u001b[0m\u001b[0;34m)\u001b[0m\u001b[0;34m\u001b[0m\u001b[0m\n\u001b[0m\u001b[1;32m     16\u001b[0m \u001b[0;34m\u001b[0m\u001b[0m\n\u001b[1;32m     17\u001b[0m     \u001b[0marticle\u001b[0m \u001b[0;34m=\u001b[0m \u001b[0msoup\u001b[0m\u001b[0;34m.\u001b[0m\u001b[0mselect\u001b[0m\u001b[0;34m(\u001b[0m\u001b[0marticle_tag\u001b[0m\u001b[0;34m)\u001b[0m\u001b[0;34m[\u001b[0m\u001b[0;36m0\u001b[0m\u001b[0;34m]\u001b[0m\u001b[0;34m\u001b[0m\u001b[0m\n",
      "\u001b[0;32m/Users/cmusselle/anaconda3/envs/rss-miner/lib/python3.6/site-packages/bs4/__init__.py\u001b[0m in \u001b[0;36m__init__\u001b[0;34m(self, markup, features, builder, parse_only, from_encoding, exclude_encodings, **kwargs)\u001b[0m\n\u001b[1;32m    163\u001b[0m                     \u001b[0;34m\"Couldn't find a tree builder with the features you \"\u001b[0m\u001b[0;34m\u001b[0m\u001b[0m\n\u001b[1;32m    164\u001b[0m                     \u001b[0;34m\"requested: %s. Do you need to install a parser library?\"\u001b[0m\u001b[0;34m\u001b[0m\u001b[0m\n\u001b[0;32m--> 165\u001b[0;31m                     % \",\".join(features))\n\u001b[0m\u001b[1;32m    166\u001b[0m             \u001b[0mbuilder\u001b[0m \u001b[0;34m=\u001b[0m \u001b[0mbuilder_class\u001b[0m\u001b[0;34m(\u001b[0m\u001b[0;34m)\u001b[0m\u001b[0;34m\u001b[0m\u001b[0m\n\u001b[1;32m    167\u001b[0m             if not (original_features == builder.NAME or\n",
      "\u001b[0;31mFeatureNotFound\u001b[0m: Couldn't find a tree builder with the features you requested: lxml. Do you need to install a parser library?"
     ]
    }
   ],
   "source": [
    "main(1)"
   ]
  },
  {
   "cell_type": "code",
   "execution_count": null,
   "metadata": {
    "collapsed": true
   },
   "outputs": [],
   "source": []
  }
 ],
 "metadata": {
  "kernelspec": {
   "display_name": "Python 3",
   "language": "python",
   "name": "python3"
  }
 },
 "nbformat": 4,
 "nbformat_minor": 2
}
